{
 "cells": [
  {
   "cell_type": "code",
   "execution_count": 1,
   "id": "0bc09d10",
   "metadata": {},
   "outputs": [
    {
     "data": {
      "text/plain": [
       "'c:\\\\Users\\\\kgn\\\\OneDrive - PowerSchool\\\\PowerSchool\\\\Release Script\\\\Python\\\\Data Scientist\\\\LLMScratch\\\\notebook'"
      ]
     },
     "execution_count": 1,
     "metadata": {},
     "output_type": "execute_result"
    }
   ],
   "source": [
    "%pwd"
   ]
  },
  {
   "cell_type": "code",
   "execution_count": 2,
   "id": "477574ca",
   "metadata": {},
   "outputs": [
    {
     "data": {
      "text/plain": [
       "'c:\\\\Users\\\\kgn\\\\OneDrive - PowerSchool\\\\PowerSchool\\\\Release Script\\\\Python\\\\Data Scientist\\\\LLMScratch'"
      ]
     },
     "execution_count": 2,
     "metadata": {},
     "output_type": "execute_result"
    }
   ],
   "source": [
    "import os\n",
    "os.chdir(\"../\")\n",
    "%pwd"
   ]
  },
  {
   "cell_type": "code",
   "execution_count": 3,
   "id": "79ac0d04",
   "metadata": {},
   "outputs": [
    {
     "name": "stdout",
     "output_type": "stream",
     "text": [
      "matplotlib version: 3.10.3\n",
      "numpy version: 1.26.4\n",
      "tiktoken version: 0.9.0\n",
      "torch version: 2.7.1\n"
     ]
    }
   ],
   "source": [
    "from importlib.metadata import version\n",
    "\n",
    "pkgs = [\"matplotlib\", \n",
    "        \"numpy\", \n",
    "        \"tiktoken\", \n",
    "        \"torch\",\n",
    "       ]\n",
    "for p in pkgs:\n",
    "    print(f\"{p} version: {version(p)}\")"
   ]
  },
  {
   "cell_type": "code",
   "execution_count": 44,
   "id": "369f3494",
   "metadata": {},
   "outputs": [],
   "source": [
    "import torch\n",
    "from modules.supplementary_pretraining import GPTModel\n",
    "\n",
    "\n",
    "GPT_CONFIG_124M = {\n",
    "    \"vocab_size\": 50257,   # Vocabulary size\n",
    "    \"context_length\": 32, # Shortened context length (orig: 1024)\n",
    "    \"emb_dim\": 768,        # Embedding dimension\n",
    "    \"n_heads\": 12,         # Number of attention heads\n",
    "    \"n_layers\": 12,        # Number of layers\n",
    "    \"drop_rate\": 0.1,      # Dropout rate\n",
    "    \"qkv_bias\": False      # Query-key-value bias\n",
    "}\n",
    "\n",
    "torch.manual_seed(123)\n",
    "model = GPTModel(GPT_CONFIG_124M)\n",
    "model.eval();  # Disable dropout during inference"
   ]
  },
  {
   "cell_type": "code",
   "execution_count": 28,
   "id": "d8464376",
   "metadata": {},
   "outputs": [],
   "source": [
    "import tiktoken\n",
    "from modules.supplementary_pretraining import generate_text_simple\n",
    "\n",
    "\n",
    "def text_to_token_ids(text, tokenizer):\n",
    "    encoded = tokenizer.encode(text, allowed_special={'<|endoftext|>'})\n",
    "    encoded_tensor = torch.tensor(encoded).unsqueeze(0) # add batch dimension\n",
    "    return encoded_tensor\n",
    "\n",
    "def token_ids_to_text(token_ids, tokenizer):\n",
    "    flat = token_ids.squeeze(0) # remove batch dimension\n",
    "    return tokenizer.decode(flat.tolist())"
   ]
  },
  {
   "cell_type": "code",
   "execution_count": 40,
   "id": "1ca9fdf5",
   "metadata": {},
   "outputs": [
    {
     "name": "stdout",
     "output_type": "stream",
     "text": [
      "Output text:\n",
      " Snippet isaucas creditedads legality tune Plus385 Ment chiefly unveil\n"
     ]
    }
   ],
   "source": [
    "# start_context = \"Every effort moves you\"\n",
    "start_context =\"Snippet is\"\n",
    "tokenizer = tiktoken.get_encoding(\"gpt2\")\n",
    "\n",
    "token_ids = generate_text_simple(\n",
    "    model=model,\n",
    "    idx=text_to_token_ids(start_context, tokenizer),\n",
    "    max_new_tokens=10,\n",
    "    context_size=GPT_CONFIG_124M[\"context_length\"]\n",
    ")\n",
    "\n",
    "print(\"Output text:\\n\", token_ids_to_text(token_ids, tokenizer))"
   ]
  },
  {
   "cell_type": "code",
   "execution_count": 30,
   "id": "90a14bc2",
   "metadata": {},
   "outputs": [],
   "source": [
    "with open(\"notebook/easy_edit.txt\", \"r\", encoding=\"utf-8\") as file:\n",
    "    text_data = file.read()"
   ]
  },
  {
   "cell_type": "code",
   "execution_count": 31,
   "id": "a6011ec2",
   "metadata": {},
   "outputs": [
    {
     "name": "stdout",
     "output_type": "stream",
     "text": [
      "[New in 20.6.3.0] To support a new and more robust approach to snippets which will culminate in a m\n"
     ]
    }
   ],
   "source": [
    "# First 100 characters\n",
    "print(text_data[:99])"
   ]
  },
  {
   "cell_type": "code",
   "execution_count": 32,
   "id": "42c982cb",
   "metadata": {},
   "outputs": [
    {
     "name": "stdout",
     "output_type": "stream",
     "text": [
      "g “Security” from the “Administration” menu, and then “Set Admin Options” from the “More” dropdown.\n"
     ]
    }
   ],
   "source": [
    "# Last 100 characters\n",
    "print(text_data[-99:])"
   ]
  },
  {
   "cell_type": "code",
   "execution_count": 41,
   "id": "fa1bc4ee",
   "metadata": {},
   "outputs": [
    {
     "name": "stdout",
     "output_type": "stream",
     "text": [
      "Characters: 2309\n",
      "Tokens: 587\n"
     ]
    }
   ],
   "source": [
    "total_characters = len(text_data)\n",
    "total_tokens = len(tokenizer.encode(text_data))\n",
    "\n",
    "print(\"Characters:\", total_characters)\n",
    "print(\"Tokens:\", total_tokens)"
   ]
  },
  {
   "cell_type": "code",
   "execution_count": 45,
   "id": "3a59d2c1",
   "metadata": {},
   "outputs": [],
   "source": [
    "from modules.supplementary_pretraining import create_dataloader_v1\n",
    "\n",
    "\n",
    "# Train/validation ratio\n",
    "train_ratio = 0.90\n",
    "split_idx = int(train_ratio * len(text_data))\n",
    "# print(split_idx)\n",
    "train_data = text_data[:split_idx]\n",
    "val_data = text_data[split_idx:]\n",
    "# print(f\"Train Data:\\n{train_data}\")\n",
    "# print(f\"Validation Data:\\n{val_data}\")\n",
    "\n",
    "torch.manual_seed(123)\n",
    "\n",
    "train_loader = create_dataloader_v1(\n",
    "    train_data,\n",
    "    batch_size=2,\n",
    "    max_length=GPT_CONFIG_124M[\"context_length\"],\n",
    "    stride=GPT_CONFIG_124M[\"context_length\"],\n",
    "    drop_last=True,\n",
    "    shuffle=True,\n",
    "    num_workers=0\n",
    ")\n",
    "\n",
    "val_loader = create_dataloader_v1(\n",
    "    val_data,\n",
    "    batch_size=2,\n",
    "    max_length=GPT_CONFIG_124M[\"context_length\"],\n",
    "    stride=GPT_CONFIG_124M[\"context_length\"],\n",
    "    drop_last=False,\n",
    "    shuffle=False,\n",
    "    num_workers=0\n",
    ")"
   ]
  },
  {
   "cell_type": "code",
   "execution_count": 46,
   "id": "1fa1031a",
   "metadata": {},
   "outputs": [
    {
     "name": "stdout",
     "output_type": "stream",
     "text": [
      "Train loader:\n",
      "torch.Size([2, 32]) torch.Size([2, 32])\n",
      "torch.Size([2, 32]) torch.Size([2, 32])\n",
      "torch.Size([2, 32]) torch.Size([2, 32])\n",
      "torch.Size([2, 32]) torch.Size([2, 32])\n",
      "torch.Size([2, 32]) torch.Size([2, 32])\n",
      "torch.Size([2, 32]) torch.Size([2, 32])\n",
      "torch.Size([2, 32]) torch.Size([2, 32])\n",
      "torch.Size([2, 32]) torch.Size([2, 32])\n",
      "\n",
      "Validation loader:\n",
      "torch.Size([1, 32]) torch.Size([1, 32])\n"
     ]
    }
   ],
   "source": [
    "print(\"Train loader:\")\n",
    "for x, y in train_loader:\n",
    "    print(x.shape, y.shape)\n",
    "\n",
    "print(\"\\nValidation loader:\")\n",
    "for x, y in val_loader:\n",
    "    print(x.shape, y.shape)"
   ]
  },
  {
   "cell_type": "code",
   "execution_count": 47,
   "id": "0e9f9606",
   "metadata": {},
   "outputs": [
    {
     "name": "stdout",
     "output_type": "stream",
     "text": [
      "Training tokens: 512\n",
      "Validation tokens: 32\n",
      "All tokens: 544\n"
     ]
    }
   ],
   "source": [
    "train_tokens = 0\n",
    "for input_batch, target_batch in train_loader:\n",
    "    train_tokens += input_batch.numel()\n",
    "\n",
    "val_tokens = 0\n",
    "for input_batch, target_batch in val_loader:\n",
    "    val_tokens += input_batch.numel()\n",
    "\n",
    "print(\"Training tokens:\", train_tokens)\n",
    "print(\"Validation tokens:\", val_tokens)\n",
    "print(\"All tokens:\", train_tokens + val_tokens)"
   ]
  },
  {
   "cell_type": "code",
   "execution_count": 51,
   "id": "5243ccc5",
   "metadata": {},
   "outputs": [
    {
     "name": "stdout",
     "output_type": "stream",
     "text": [
      "cpu\n",
      "Training loss: 4.723143428564072\n",
      "Validation loss: 9.728282928466797\n"
     ]
    }
   ],
   "source": [
    "from modules.supplementary_pretraining import calc_loss_loader\n",
    "\n",
    "\n",
    "device = torch.device(\"cuda\" if torch.cuda.is_available() else \"cpu\")\n",
    "print(device)\n",
    "model.to(device) # no assignment model = model.to(device) necessary for nn.Module classes\n",
    "\n",
    "\n",
    "torch.manual_seed(123) # For reproducibility due to the shuffling in the data loader\n",
    "\n",
    "with torch.no_grad(): # Disable gradient tracking for efficiency because we are not training, yet\n",
    "    train_loss = calc_loss_loader(train_loader, model, device)\n",
    "    val_loss = calc_loss_loader(val_loader, model, device)\n",
    "\n",
    "print(\"Training loss:\", train_loss)\n",
    "print(\"Validation loss:\", val_loss)"
   ]
  },
  {
   "cell_type": "code",
   "execution_count": 49,
   "id": "1bf01771",
   "metadata": {},
   "outputs": [],
   "source": [
    "from modules.supplementary_pretraining import (\n",
    "    calc_loss_batch,\n",
    "    evaluate_model,\n",
    "    generate_and_print_sample\n",
    ")\n",
    "\n",
    "\n",
    "def train_model_simple(model, train_loader, val_loader, optimizer, device, num_epochs,\n",
    "                       eval_freq, eval_iter, start_context, tokenizer):\n",
    "    # Initialize lists to track losses and tokens seen\n",
    "    train_losses, val_losses, track_tokens_seen = [], [], []\n",
    "    tokens_seen, global_step = 0, -1\n",
    "\n",
    "    # Main training loop\n",
    "    for epoch in range(num_epochs):\n",
    "        model.train()  # Set model to training mode\n",
    "        \n",
    "        for input_batch, target_batch in train_loader:\n",
    "            optimizer.zero_grad() # Reset loss gradients from previous batch iteration\n",
    "            loss = calc_loss_batch(input_batch, target_batch, model, device)\n",
    "            loss.backward() # Calculate loss gradients\n",
    "            optimizer.step() # Update model weights using loss gradients\n",
    "            tokens_seen += input_batch.numel()\n",
    "            global_step += 1\n",
    "\n",
    "            # Optional evaluation step\n",
    "            if global_step % eval_freq == 0:\n",
    "                train_loss, val_loss = evaluate_model(\n",
    "                    model, train_loader, val_loader, device, eval_iter)\n",
    "                train_losses.append(train_loss)\n",
    "                val_losses.append(val_loss)\n",
    "                track_tokens_seen.append(tokens_seen)\n",
    "                print(f\"Ep {epoch+1} (Step {global_step:06d}): \"\n",
    "                      f\"Train loss {train_loss:.3f}, Val loss {val_loss:.3f}\")\n",
    "\n",
    "        # Print a sample text after each epoch\n",
    "        generate_and_print_sample(\n",
    "            model, tokenizer, device, start_context\n",
    "        )\n",
    "\n",
    "    return train_losses, val_losses, track_tokens_seen"
   ]
  },
  {
   "cell_type": "code",
   "execution_count": 52,
   "id": "eb7ddf73",
   "metadata": {},
   "outputs": [
    {
     "name": "stdout",
     "output_type": "stream",
     "text": [
      "Ep 1 (Step 000000): Train loss 9.050, Val loss 10.640\n",
      "Ep 1 (Step 000005): Train loss 6.434, Val loss 9.928\n",
      "Snippet is <p-21\">contents</p-21\">contents</p-21\">contents tag will be inserted above the target tag the target tag the target tag the target tag the target tag the target tag the target tag the target tag\n",
      "Ep 2 (Step 000010): Train loss 3.626, Val loss 9.227\n",
      "Ep 2 (Step 000015): Train loss 1.889, Val loss 8.666\n",
      "Snippet is <p snippet-id=\"p-21\">contents</p snippet content you specify the target tag is <p snippet content you specify the target tag is <p snippet content you specify the target tag is <p snippet content as a new p\n",
      "Ep 3 (Step 000020): Train loss 1.525, Val loss 8.689\n",
      "Snippet is <p snippet-id=\"p snippet-id=\"p snippet-id=\"p snippet-id=\"p snippet-21\">contents</p snippet-id=\"p snippet-id=\"p snippet-id=\"p snippet-id=\"p\n",
      "Ep 4 (Step 000025): Train loss 0.775, Val loss 8.110\n",
      "Ep 4 (Step 000030): Train loss 0.428, Val loss 7.894\n",
      "Snippet is <p-21\">contents</p>. 5) Insert Below Outside: Inserts the new snippet content below the outside of the new p tag will be inserted as a new p tag, the new p tag, the target p tag\n",
      "Ep 5 (Step 000035): Train loss 0.263, Val loss 7.814\n",
      "Snippet is <p snippet-id=\"p-21\">contents</p> the snippet content you specify will be inserted as <p snippet content as a focused, your new p tag, your new p tag, your new p tag, your new p\n",
      "Ep 6 (Step 000040): Train loss 0.134, Val loss 7.806\n",
      "Ep 6 (Step 000045): Train loss 0.112, Val loss 7.772\n",
      "Snippet is <p snippet-id=\"p-21\">contents</p> the snippet content you specify will be inserted as <p snippet-id=\"p> and you specify will be inserted as a focused “Tag functionality because of the functionality because\n",
      "Ep 7 (Step 000050): Train loss 0.078, Val loss 7.981\n",
      "Ep 7 (Step 000055): Train loss 0.050, Val loss 8.029\n",
      "Snippet is <p snippet-id=\"p-21\">contents</p> the snippet content you specify will be inserted as <p snippet content as a focused three functionality) Insert Below Outside: If the functionality) Insert Below Outside: If the\n",
      "Ep 8 (Step 000060): Train loss 0.042, Val loss 8.012\n",
      "Snippet is <p snippet-id=\"p-21\">contents</p> the snippet-21\">contents</p-21\">contents</p> the functionality because of the functionality because of the functionality because of the functionality because of the functionality\n",
      "Ep 9 (Step 000065): Train loss 0.017, Val loss 8.121\n",
      "Ep 9 (Step 000070): Train loss 0.035, Val loss 8.191\n",
      "Snippet is <p snippet-id=\"p-21\">contents</p> the snippet content you specify will be inserted as <p snippet content as a focused, your new p tag, your new p tag, your new p tag, and you specify\n",
      "Ep 10 (Step 000075): Train loss 0.037, Val loss 8.138\n",
      "Snippet is <p snippet-id=\"p-21\">contents</p> the snippet content you specify will be inserted as <p snippet-id=\"p> and you specify will be inserted as a focused as a focused, and you specify will be\n"
     ]
    }
   ],
   "source": [
    "torch.manual_seed(123)\n",
    "model = GPTModel(GPT_CONFIG_124M)\n",
    "model.to(device)\n",
    "optimizer = torch.optim.AdamW(model.parameters(), lr=0.0004, weight_decay=0.1)\n",
    "\n",
    "num_epochs = 10\n",
    "train_losses, val_losses, tokens_seen = train_model_simple(\n",
    "    model, train_loader, val_loader, optimizer, device,\n",
    "    num_epochs=num_epochs, eval_freq=5, eval_iter=5,\n",
    "    start_context=\"Snippet is\", tokenizer=tokenizer\n",
    ")"
   ]
  },
  {
   "cell_type": "code",
   "execution_count": 53,
   "id": "c0ff477e",
   "metadata": {},
   "outputs": [],
   "source": [
    "torch.save(model.state_dict(), \"model/model.pth\")"
   ]
  },
  {
   "cell_type": "code",
   "execution_count": 54,
   "id": "3b41ef7d",
   "metadata": {},
   "outputs": [
    {
     "data": {
      "image/png": "[encoded data removed]",
      "text/plain": [
       "<Figure size 500x300 with 2 Axes>"
      ]
     },
     "metadata": {},
     "output_type": "display_data"
    }
   ],
   "source": [
    "from modules.supplementary_pretraining import plot_losses\n",
    "\n",
    "\n",
    "epochs_tensor = torch.linspace(0, num_epochs, len(train_losses))\n",
    "plot_losses(epochs_tensor, tokens_seen, train_losses, val_losses)"
   ]
  },
  {
   "cell_type": "code",
   "execution_count": 58,
   "id": "6d6b4cc4",
   "metadata": {},
   "outputs": [
    {
     "name": "stdout",
     "output_type": "stream",
     "text": [
      "Output text:\n",
      " Inserts the new snippet-id=\"p-21\">contents</\n"
     ]
    }
   ],
   "source": [
    "# start_context = \"Snippet is\"\n",
    "\n",
    "start_context = \"Inserts the new snippet\"\n",
    "tokenizer = tiktoken.get_encoding(\"gpt2\")\n",
    "\n",
    "device = torch.device(\"cuda\" if torch.cuda.is_available() else \"cpu\")\n",
    "\n",
    "token_ids = generate_text_simple(\n",
    "    model=model,\n",
    "    idx=text_to_token_ids(start_context, tokenizer).to(device),\n",
    "    max_new_tokens=10,\n",
    "    context_size=GPT_CONFIG_124M[\"context_length\"]\n",
    ")\n",
    "\n",
    "print(\"Output text:\\n\", token_ids_to_text(token_ids=token_ids,tokenizer=tokenizer))"
   ]
  },
  {
   "cell_type": "code",
   "execution_count": 59,
   "id": "c89af6e7",
   "metadata": {},
   "outputs": [],
   "source": [
    "import torch\n",
    "\n",
    "# Imports from a local file\n",
    "from modules.supplementary_pretraining import GPTModel\n",
    "\n",
    "\n",
    "model = GPTModel(GPT_CONFIG_124M)\n",
    "device = torch.device(\"cuda\" if torch.cuda.is_available() else \"cpu\")\n",
    "model.load_state_dict(torch.load(\"model/model.pth\", map_location=device))\n",
    "model.eval();"
   ]
  }
 ],
 "metadata": {
  "kernelspec": {
   "display_name": ".llms3.10",
   "language": "python",
   "name": "python3"
  },
  "language_info": {
   "codemirror_mode": {
    "name": "ipython",
    "version": 3
   },
   "file_extension": ".py",
   "mimetype": "text/x-python",
   "name": "python",
   "nbconvert_exporter": "python",
   "pygments_lexer": "ipython3",
   "version": "3.10.11"
  }
 },
 "nbformat": 4,
 "nbformat_minor": 5
}
