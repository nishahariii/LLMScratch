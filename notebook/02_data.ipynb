{
 "cells": [
  {
   "cell_type": "code",
   "execution_count": 1,
   "id": "da4b0549",
   "metadata": {},
   "outputs": [
    {
     "data": {
      "text/plain": [
       "'c:\\\\Users\\\\kgn\\\\OneDrive - PowerSchool\\\\PowerSchool\\\\Release Script\\\\Python\\\\Data Scientist\\\\LLMScratch\\\\notebook'"
      ]
     },
     "execution_count": 1,
     "metadata": {},
     "output_type": "execute_result"
    }
   ],
   "source": [
    "%pwd"
   ]
  },
  {
   "cell_type": "code",
   "execution_count": 2,
   "id": "d342d624",
   "metadata": {},
   "outputs": [
    {
     "data": {
      "text/plain": [
       "'c:\\\\Users\\\\kgn\\\\OneDrive - PowerSchool\\\\PowerSchool\\\\Release Script\\\\Python\\\\Data Scientist\\\\LLMScratch'"
      ]
     },
     "execution_count": 2,
     "metadata": {},
     "output_type": "execute_result"
    }
   ],
   "source": [
    "import os\n",
    "os.chdir('../')\n",
    "%pwd"
   ]
  },
  {
   "cell_type": "code",
   "execution_count": 49,
   "id": "58df9cf5",
   "metadata": {},
   "outputs": [
    {
     "name": "stdout",
     "output_type": "stream",
     "text": [
      "torch version: 2.7.1\n",
      "tiktoken version: 0.9.0\n"
     ]
    }
   ],
   "source": [
    "from importlib.metadata import version\n",
    "\n",
    "\n",
    "print(\"torch version:\", version(\"torch\"))\n",
    "print(\"tiktoken version:\", version(\"tiktoken\"))"
   ]
  },
  {
   "cell_type": "code",
   "execution_count": 50,
   "id": "a398da87",
   "metadata": {},
   "outputs": [
    {
     "name": "stdout",
     "output_type": "stream",
     "text": [
      "Total number of character: 638\n",
      "To support a new and more robust approach to snippets which will culminate in a major new feature s\n"
     ]
    }
   ],
   "source": [
    "with open(\"notebook/easy_edit.txt\", \"r\", encoding=\"utf-8\") as f:\n",
    "# with open(\"notebook/config_guide.pdf\", \"rb\") as f:\n",
    "    raw_text = f.read()\n",
    "    \n",
    "print(\"Total number of character:\", len(raw_text))\n",
    "print(raw_text[:99])"
   ]
  },
  {
   "cell_type": "code",
   "execution_count": 51,
   "id": "f75c7ff3",
   "metadata": {},
   "outputs": [],
   "source": [
    "import re\n",
    "\n",
    "preprocessed = re.split(r'([,.:;?_!\"()\\']|--|\\s)', raw_text)\n",
    "preprocessed = [item for item in preprocessed if item]\n",
    "# print(preprocessed[:38])"
   ]
  },
  {
   "cell_type": "code",
   "execution_count": 52,
   "id": "29ee3e2d",
   "metadata": {},
   "outputs": [
    {
     "data": {
      "text/plain": [
       "88"
      ]
     },
     "execution_count": 52,
     "metadata": {},
     "output_type": "execute_result"
    }
   ],
   "source": [
    "len(set(preprocessed))"
   ]
  },
  {
   "cell_type": "code",
   "execution_count": 53,
   "id": "c77d583f",
   "metadata": {},
   "outputs": [
    {
     "data": {
      "text/plain": [
       "{' ',\n",
       " ',',\n",
       " '.',\n",
       " '0',\n",
       " '11',\n",
       " '20',\n",
       " '3',\n",
       " '6',\n",
       " ':',\n",
       " 'Beginning',\n",
       " 'Easy',\n",
       " 'Edit',\n",
       " 'End',\n",
       " 'HTML',\n",
       " 'ID',\n",
       " 'ID”',\n",
       " 'Only',\n",
       " 'Section',\n",
       " 'Snippet',\n",
       " 'Tag',\n",
       " 'To',\n",
       " 'When',\n",
       " 'a',\n",
       " 'actions',\n",
       " 'and',\n",
       " 'approach',\n",
       " 'are',\n",
       " 'attribute',\n",
       " 'attributes',\n",
       " 'automatically',\n",
       " 'but',\n",
       " 'called',\n",
       " 'can',\n",
       " 'choice',\n",
       " 'choices',\n",
       " 'create',\n",
       " 'culminate',\n",
       " 'database',\n",
       " 'document',\n",
       " 'enter',\n",
       " 'feature',\n",
       " 'following',\n",
       " 'for',\n",
       " 'formats',\n",
       " 'future',\n",
       " 'if',\n",
       " 'in',\n",
       " 'injects',\n",
       " 'into',\n",
       " 'is',\n",
       " 'key',\n",
       " 'main',\n",
       " 'major',\n",
       " 'model',\n",
       " 'more',\n",
       " 'new',\n",
       " 'now',\n",
       " 'of',\n",
       " 'on',\n",
       " 'one',\n",
       " 'only',\n",
       " 'robust',\n",
       " 'section',\n",
       " 'select',\n",
       " 'set',\n",
       " 'snippet',\n",
       " 'snippet-id',\n",
       " 'snippets',\n",
       " 'specific',\n",
       " 'support',\n",
       " 'system',\n",
       " 'tags',\n",
       " 'tag’s',\n",
       " 'target',\n",
       " 'templates',\n",
       " 'the',\n",
       " 'there',\n",
       " 'this',\n",
       " 'three',\n",
       " 'to',\n",
       " 'value',\n",
       " 'version',\n",
       " 'when',\n",
       " 'which',\n",
       " 'will',\n",
       " 'with',\n",
       " 'you',\n",
       " '“Tag'}"
      ]
     },
     "execution_count": 53,
     "metadata": {},
     "output_type": "execute_result"
    }
   ],
   "source": [
    "set(preprocessed)"
   ]
  },
  {
   "cell_type": "code",
   "execution_count": 54,
   "id": "f4b93cfc",
   "metadata": {},
   "outputs": [
    {
     "data": {
      "text/plain": [
       "[' ',\n",
       " ',',\n",
       " '.',\n",
       " '0',\n",
       " '11',\n",
       " '20',\n",
       " '3',\n",
       " '6',\n",
       " ':',\n",
       " 'Beginning',\n",
       " 'Easy',\n",
       " 'Edit',\n",
       " 'End',\n",
       " 'HTML',\n",
       " 'ID',\n",
       " 'ID”',\n",
       " 'Only',\n",
       " 'Section',\n",
       " 'Snippet',\n",
       " 'Tag',\n",
       " 'To',\n",
       " 'When',\n",
       " 'a',\n",
       " 'actions',\n",
       " 'and',\n",
       " 'approach',\n",
       " 'are',\n",
       " 'attribute',\n",
       " 'attributes',\n",
       " 'automatically',\n",
       " 'but',\n",
       " 'called',\n",
       " 'can',\n",
       " 'choice',\n",
       " 'choices',\n",
       " 'create',\n",
       " 'culminate',\n",
       " 'database',\n",
       " 'document',\n",
       " 'enter',\n",
       " 'feature',\n",
       " 'following',\n",
       " 'for',\n",
       " 'formats',\n",
       " 'future',\n",
       " 'if',\n",
       " 'in',\n",
       " 'injects',\n",
       " 'into',\n",
       " 'is',\n",
       " 'key',\n",
       " 'main',\n",
       " 'major',\n",
       " 'model',\n",
       " 'more',\n",
       " 'new',\n",
       " 'now',\n",
       " 'of',\n",
       " 'on',\n",
       " 'one',\n",
       " 'only',\n",
       " 'robust',\n",
       " 'section',\n",
       " 'select',\n",
       " 'set',\n",
       " 'snippet',\n",
       " 'snippet-id',\n",
       " 'snippets',\n",
       " 'specific',\n",
       " 'support',\n",
       " 'system',\n",
       " 'tags',\n",
       " 'tag’s',\n",
       " 'target',\n",
       " 'templates',\n",
       " 'the',\n",
       " 'there',\n",
       " 'this',\n",
       " 'three',\n",
       " 'to',\n",
       " 'value',\n",
       " 'version',\n",
       " 'when',\n",
       " 'which',\n",
       " 'will',\n",
       " 'with',\n",
       " 'you',\n",
       " '“Tag']"
      ]
     },
     "execution_count": 54,
     "metadata": {},
     "output_type": "execute_result"
    }
   ],
   "source": [
    "sorted(set(preprocessed))"
   ]
  },
  {
   "cell_type": "code",
   "execution_count": 55,
   "id": "a866e5f6",
   "metadata": {},
   "outputs": [
    {
     "name": "stdout",
     "output_type": "stream",
     "text": [
      "88\n"
     ]
    }
   ],
   "source": [
    "all_words = sorted(set(preprocessed))\n",
    "vocab_size = len(all_words)\n",
    "\n",
    "print(vocab_size)"
   ]
  },
  {
   "cell_type": "code",
   "execution_count": 56,
   "id": "c47ca80a",
   "metadata": {},
   "outputs": [
    {
     "name": "stdout",
     "output_type": "stream",
     "text": [
      "(0, ' ')\n",
      "(1, ',')\n",
      "(2, '.')\n",
      "(3, '0')\n",
      "(4, '11')\n",
      "(5, '20')\n",
      "(6, '3')\n",
      "(7, '6')\n",
      "(8, ':')\n",
      "(9, 'Beginning')\n",
      "(10, 'Easy')\n",
      "(11, 'Edit')\n",
      "(12, 'End')\n",
      "(13, 'HTML')\n",
      "(14, 'ID')\n",
      "(15, 'ID”')\n",
      "(16, 'Only')\n",
      "(17, 'Section')\n",
      "(18, 'Snippet')\n",
      "(19, 'Tag')\n",
      "(20, 'To')\n",
      "(21, 'When')\n",
      "(22, 'a')\n",
      "(23, 'actions')\n",
      "(24, 'and')\n",
      "(25, 'approach')\n",
      "(26, 'are')\n",
      "(27, 'attribute')\n",
      "(28, 'attributes')\n",
      "(29, 'automatically')\n",
      "(30, 'but')\n",
      "(31, 'called')\n",
      "(32, 'can')\n",
      "(33, 'choice')\n",
      "(34, 'choices')\n",
      "(35, 'create')\n",
      "(36, 'culminate')\n",
      "(37, 'database')\n",
      "(38, 'document')\n",
      "(39, 'enter')\n",
      "(40, 'feature')\n",
      "(41, 'following')\n",
      "(42, 'for')\n",
      "(43, 'formats')\n",
      "(44, 'future')\n",
      "(45, 'if')\n",
      "(46, 'in')\n",
      "(47, 'injects')\n",
      "(48, 'into')\n",
      "(49, 'is')\n",
      "(50, 'key')\n",
      "(51, 'main')\n",
      "(52, 'major')\n",
      "(53, 'model')\n",
      "(54, 'more')\n",
      "(55, 'new')\n",
      "(56, 'now')\n",
      "(57, 'of')\n",
      "(58, 'on')\n",
      "(59, 'one')\n",
      "(60, 'only')\n",
      "(61, 'robust')\n",
      "(62, 'section')\n",
      "(63, 'select')\n",
      "(64, 'set')\n",
      "(65, 'snippet')\n",
      "(66, 'snippet-id')\n",
      "(67, 'snippets')\n",
      "(68, 'specific')\n",
      "(69, 'support')\n",
      "(70, 'system')\n",
      "(71, 'tags')\n",
      "(72, 'tag’s')\n",
      "(73, 'target')\n",
      "(74, 'templates')\n",
      "(75, 'the')\n",
      "(76, 'there')\n",
      "(77, 'this')\n",
      "(78, 'three')\n",
      "(79, 'to')\n",
      "(80, 'value')\n",
      "(81, 'version')\n",
      "(82, 'when')\n",
      "(83, 'which')\n",
      "(84, 'will')\n",
      "(85, 'with')\n",
      "(86, 'you')\n",
      "(87, '“Tag')\n"
     ]
    }
   ],
   "source": [
    "for i in enumerate(all_words):\n",
    "    print(i)"
   ]
  },
  {
   "cell_type": "code",
   "execution_count": 57,
   "id": "dbfae40c",
   "metadata": {},
   "outputs": [
    {
     "name": "stdout",
     "output_type": "stream",
     "text": [
      "(' ', 0)\n",
      "(',', 1)\n",
      "('.', 2)\n",
      "('0', 3)\n",
      "('11', 4)\n",
      "('20', 5)\n",
      "('3', 6)\n",
      "('6', 7)\n",
      "(':', 8)\n",
      "('Beginning', 9)\n",
      "('Easy', 10)\n",
      "('Edit', 11)\n",
      "('End', 12)\n",
      "('HTML', 13)\n",
      "('ID', 14)\n",
      "('ID”', 15)\n",
      "('Only', 16)\n",
      "('Section', 17)\n",
      "('Snippet', 18)\n",
      "('Tag', 19)\n",
      "('To', 20)\n",
      "('When', 21)\n",
      "('a', 22)\n",
      "('actions', 23)\n",
      "('and', 24)\n",
      "('approach', 25)\n",
      "('are', 26)\n",
      "('attribute', 27)\n",
      "('attributes', 28)\n",
      "('automatically', 29)\n",
      "('but', 30)\n",
      "('called', 31)\n",
      "('can', 32)\n",
      "('choice', 33)\n",
      "('choices', 34)\n",
      "('create', 35)\n",
      "('culminate', 36)\n",
      "('database', 37)\n",
      "('document', 38)\n",
      "('enter', 39)\n",
      "('feature', 40)\n",
      "('following', 41)\n",
      "('for', 42)\n",
      "('formats', 43)\n",
      "('future', 44)\n",
      "('if', 45)\n",
      "('in', 46)\n",
      "('injects', 47)\n",
      "('into', 48)\n",
      "('is', 49)\n",
      "('key', 50)\n"
     ]
    }
   ],
   "source": [
    "vocab = {token:integer for integer,token in enumerate(all_words)}\n",
    "for i, item in enumerate(vocab.items()):\n",
    "    print(item)\n",
    "    if i >= 50:\n",
    "        break"
   ]
  },
  {
   "cell_type": "code",
   "execution_count": 58,
   "id": "f18b959c",
   "metadata": {},
   "outputs": [],
   "source": [
    "class SimpleTokenizerV1:\n",
    "    def __init__(self, vocab):\n",
    "        self.str_to_int = vocab\n",
    "        self.int_to_str = {i:s for s,i in vocab.items()}\n",
    "    \n",
    "    def encode(self, text):\n",
    "        preprocessed = re.split(r'([,.?_!\"()\\']|--|\\s)', text)\n",
    "        preprocessed = [\n",
    "            item.strip() for item in preprocessed if item.strip()\n",
    "        ]\n",
    "        ids = [self.str_to_int[s] for s in preprocessed]\n",
    "        return ids\n",
    "        \n",
    "    def decode(self, ids):\n",
    "        text = \" \".join([self.int_to_str[i] for i in ids])\n",
    "        # Replace spaces before the specified punctuations\n",
    "        text = re.sub(r'\\s+([,.?!\"()\\'])', r'\\1', text)\n",
    "        return text\n"
   ]
  },
  {
   "cell_type": "code",
   "execution_count": 59,
   "id": "07e8feb5",
   "metadata": {},
   "outputs": [
    {
     "data": {
      "text/plain": [
       "{' ': 0,\n",
       " ',': 1,\n",
       " '.': 2,\n",
       " '0': 3,\n",
       " '11': 4,\n",
       " '20': 5,\n",
       " '3': 6,\n",
       " '6': 7,\n",
       " ':': 8,\n",
       " 'Beginning': 9,\n",
       " 'Easy': 10,\n",
       " 'Edit': 11,\n",
       " 'End': 12,\n",
       " 'HTML': 13,\n",
       " 'ID': 14,\n",
       " 'ID”': 15,\n",
       " 'Only': 16,\n",
       " 'Section': 17,\n",
       " 'Snippet': 18,\n",
       " 'Tag': 19,\n",
       " 'To': 20,\n",
       " 'When': 21,\n",
       " 'a': 22,\n",
       " 'actions': 23,\n",
       " 'and': 24,\n",
       " 'approach': 25,\n",
       " 'are': 26,\n",
       " 'attribute': 27,\n",
       " 'attributes': 28,\n",
       " 'automatically': 29,\n",
       " 'but': 30,\n",
       " 'called': 31,\n",
       " 'can': 32,\n",
       " 'choice': 33,\n",
       " 'choices': 34,\n",
       " 'create': 35,\n",
       " 'culminate': 36,\n",
       " 'database': 37,\n",
       " 'document': 38,\n",
       " 'enter': 39,\n",
       " 'feature': 40,\n",
       " 'following': 41,\n",
       " 'for': 42,\n",
       " 'formats': 43,\n",
       " 'future': 44,\n",
       " 'if': 45,\n",
       " 'in': 46,\n",
       " 'injects': 47,\n",
       " 'into': 48,\n",
       " 'is': 49,\n",
       " 'key': 50,\n",
       " 'main': 51,\n",
       " 'major': 52,\n",
       " 'model': 53,\n",
       " 'more': 54,\n",
       " 'new': 55,\n",
       " 'now': 56,\n",
       " 'of': 57,\n",
       " 'on': 58,\n",
       " 'one': 59,\n",
       " 'only': 60,\n",
       " 'robust': 61,\n",
       " 'section': 62,\n",
       " 'select': 63,\n",
       " 'set': 64,\n",
       " 'snippet': 65,\n",
       " 'snippet-id': 66,\n",
       " 'snippets': 67,\n",
       " 'specific': 68,\n",
       " 'support': 69,\n",
       " 'system': 70,\n",
       " 'tags': 71,\n",
       " 'tag’s': 72,\n",
       " 'target': 73,\n",
       " 'templates': 74,\n",
       " 'the': 75,\n",
       " 'there': 76,\n",
       " 'this': 77,\n",
       " 'three': 78,\n",
       " 'to': 79,\n",
       " 'value': 80,\n",
       " 'version': 81,\n",
       " 'when': 82,\n",
       " 'which': 83,\n",
       " 'will': 84,\n",
       " 'with': 85,\n",
       " 'you': 86,\n",
       " '“Tag': 87}"
      ]
     },
     "execution_count": 59,
     "metadata": {},
     "output_type": "execute_result"
    }
   ],
   "source": [
    "vocab"
   ]
  },
  {
   "cell_type": "code",
   "execution_count": 63,
   "id": "23126834",
   "metadata": {},
   "outputs": [
    {
     "name": "stdout",
     "output_type": "stream",
     "text": [
      "[10, 11]\n"
     ]
    }
   ],
   "source": [
    "tokenizer = SimpleTokenizerV1(vocab)\n",
    "\n",
    "text = \"Easy Edit\"\n",
    "\n",
    "\n",
    "ids = tokenizer.encode(text)\n",
    "print(ids)"
   ]
  },
  {
   "cell_type": "code",
   "execution_count": 64,
   "id": "6610c834",
   "metadata": {},
   "outputs": [
    {
     "data": {
      "text/plain": [
       "'Easy Edit'"
      ]
     },
     "execution_count": 64,
     "metadata": {},
     "output_type": "execute_result"
    }
   ],
   "source": [
    "tokenizer.decode(ids)"
   ]
  },
  {
   "cell_type": "code",
   "execution_count": 65,
   "id": "9e4bc82f",
   "metadata": {},
   "outputs": [
    {
     "data": {
      "text/plain": [
       "'Easy Edit'"
      ]
     },
     "execution_count": 65,
     "metadata": {},
     "output_type": "execute_result"
    }
   ],
   "source": [
    "tokenizer.decode(tokenizer.encode(text))"
   ]
  },
  {
   "cell_type": "code",
   "execution_count": 66,
   "id": "a88db1d0",
   "metadata": {},
   "outputs": [
    {
     "name": "stdout",
     "output_type": "stream",
     "text": [
      "tiktoken version: 0.9.0\n"
     ]
    }
   ],
   "source": [
    "import importlib\n",
    "import tiktoken\n",
    "\n",
    "print(\"tiktoken version:\", importlib.metadata.version(\"tiktoken\"))"
   ]
  },
  {
   "cell_type": "code",
   "execution_count": 67,
   "id": "2feb646b",
   "metadata": {},
   "outputs": [],
   "source": [
    "tokenizer = tiktoken.get_encoding(\"gpt2\")"
   ]
  },
  {
   "cell_type": "code",
   "execution_count": 69,
   "id": "3df452bd",
   "metadata": {},
   "outputs": [
    {
     "name": "stdout",
     "output_type": "stream",
     "text": [
      "Easy Edit\n",
      "[28406, 5312]\n"
     ]
    }
   ],
   "source": [
    "# text = (\n",
    "#     \"Hello, do you like tea? <|endoftext|> In the sunlit terraces\"\n",
    "#      \"of someunknownPlace.\"\n",
    "# )\n",
    "print(text)\n",
    "integers = tokenizer.encode(text, allowed_special={\"<|endoftext|>\"})\n",
    "\n",
    "print(integers)"
   ]
  },
  {
   "cell_type": "code",
   "execution_count": 70,
   "id": "4af4f167",
   "metadata": {},
   "outputs": [
    {
     "data": {
      "text/plain": [
       "[292, 40616, 7568, 70, 7568, 42421, 14636, 23, 29059]"
      ]
     },
     "execution_count": 70,
     "metadata": {},
     "output_type": "execute_result"
    }
   ],
   "source": [
    "tokenizer.encode(\"asfgdfgdfkjkh8478\", allowed_special={\"<|endoftext|>\"} )\n"
   ]
  },
  {
   "cell_type": "code",
   "execution_count": 72,
   "id": "5a412972",
   "metadata": {},
   "outputs": [
    {
     "data": {
      "text/plain": [
       "'as'"
      ]
     },
     "execution_count": 72,
     "metadata": {},
     "output_type": "execute_result"
    }
   ],
   "source": [
    "tokenizer.decode([292])"
   ]
  },
  {
   "cell_type": "code",
   "execution_count": null,
   "id": "8afc3573",
   "metadata": {},
   "outputs": [
    {
     "name": "stdout",
     "output_type": "stream",
     "text": [
      "To support a new and more robust approach to snippets which will culminate in a major new feature set called Easy Edit in the future version 20.11, the system now automatically injects snippet-id attributes into key HTML tags of document section formats, but only if the database is on a specific model version. When you create snippets for document templates with 20.6.3.0, there are now three main choices: Beginning of Section, Tag with Snippet ID, and End of Section. Only “Tag with Snippet ID” is new, and when you select this choice, you can enter the target tag’s snippet ID attribute value and select one of the following actions:\n",
      "Inputs:\n",
      " tensor([[ 2514,  1104,   257,   649],\n",
      "        [  290,   517, 12373,  3164],\n",
      "        [  284, 45114,   543,   481],\n",
      "        [24642,   378,   287,   257],\n",
      "        [ 1688,   649,  3895,   900],\n",
      "        [ 1444, 16789,  5312,   287],\n",
      "        [  262,  2003,  2196,  1160],\n",
      "        [   13,  1157,    11,   262]])\n",
      "\n",
      "Targets:\n",
      " tensor([[ 1104,   257,   649,   290],\n",
      "        [  517, 12373,  3164,   284],\n",
      "        [45114,   543,   481, 24642],\n",
      "        [  378,   287,   257,  1688],\n",
      "        [  649,  3895,   900,  1444],\n",
      "        [16789,  5312,   287,   262],\n",
      "        [ 2003,  2196,  1160,    13],\n",
      "        [ 1157,    11,   262,  1080]])\n"
     ]
    }
   ],
   "source": [
    "from notebook.modules.supplementary_data import create_dataloader_v1\n",
    "\n",
    "\n",
    "dataloader = create_dataloader_v1(raw_text, batch_size=8, max_length=4, stride=4, shuffle=False)\n",
    "\n",
    "data_iter = iter(dataloader)\n",
    "inputs, targets = next(data_iter)\n",
    "print(raw_text)\n",
    "print(\"Inputs:\\n\", inputs)\n",
    "\n",
    "print(\"\\nTargets:\\n\", targets)"
   ]
  }
 ],
 "metadata": {
  "kernelspec": {
   "display_name": ".llms",
   "language": "python",
   "name": "python3"
  },
  "language_info": {
   "codemirror_mode": {
    "name": "ipython",
    "version": 3
   },
   "file_extension": ".py",
   "mimetype": "text/x-python",
   "name": "python",
   "nbconvert_exporter": "python",
   "pygments_lexer": "ipython3",
   "version": "3.10.11"
  }
 },
 "nbformat": 4,
 "nbformat_minor": 5
}
